{
 "cells": [
  {
   "cell_type": "markdown",
   "metadata": {},
   "source": [
    "# 5. Limits in R(p,q)"
   ]
  },
  {
   "cell_type": "code",
   "execution_count": 10,
   "metadata": {},
   "outputs": [
    {
     "name": "stdout",
     "output_type": "stream",
     "text": [
      "Table of intermediate values:\n",
      "\n",
      "1 2.5937424601000023\n",
      "2 2.7048138294215285\n",
      "3 2.7169239322355936\n",
      "4 2.7181459268249255\n",
      "5 2.7182682371922975\n",
      "6 2.7182804690957534\n",
      "7 2.7182816941320818\n",
      "8 2.7182817983473577\n",
      "9 2.7182820520115603\n",
      "10 2.7182820532347876\n",
      "11 2.71828205335711\n",
      "12 2.7185234960372378\n",
      "13 2.716110034086901\n",
      "14 2.716110034087023\n",
      "15 3.035035206549262\n",
      "16 1.0\n",
      "17 1.0\n",
      "\n",
      "n_stop: 16\n",
      "Value converged to: 1.0\n"
     ]
    }
   ],
   "source": [
    "err = 1  #the magnitude of difference in succesive terms\n",
    "t1 = 2  #evaluating analytically at n=1 gives us 2 for the expression\n",
    "t2 = 0  #to store the succeeding term\n",
    "eps = 1e-18  #the epsilon used to test convergence\n",
    "\n",
    "n = 1\n",
    "\n",
    "print('Table of intermediate values:\\n')\n",
    "\n",
    "while(1):\n",
    "    t2 = (1 + 1/(10**n))**(10**n)\n",
    "    \n",
    "    print(n,t2)\n",
    "    \n",
    "    if(abs(t2-t1) < eps): break\n",
    "    \n",
    "    t1 = t2\n",
    "    n += 1\n",
    "    \n",
    "print('\\nn_stop:',n-1)\n",
    "print('Value converged to:', t2)"
   ]
  },
  {
   "cell_type": "markdown",
   "metadata": {},
   "source": [
    "We find that contrary to intuition, the value of e computed using the above algorithm converges to 1.0 after 16 steps. This is because of the limited mantissa of 52 bits. \n",
    "\n",
    "As a result, the smallest value that can be stored is $2^{-52}$. Now, when we are computing (1+d) where d<<1, the d fills up the mantissa and the 1 causes the exponent to be $2^0$. \n",
    "\n",
    "So, the mantissa becomes filled with zeros in all the 52 bits when the number goes down to $2^{-53}$ which in base 10 is given by solving the equation: $10^{-n} = 2^{-53}.$ This gives n = 53* log(2)/log(10) = 15.954. So the integer value of n = 16 from which the mantissa would be zeros. Therefore 1+d would essentially be 1 due to the inability of mantissa to hold smaller values of d. This is exactly the value of n where the above table of values comverges to 1.0."
   ]
  }
 ],
 "metadata": {
  "kernelspec": {
   "display_name": "Python 3",
   "language": "python",
   "name": "python3"
  },
  "language_info": {
   "codemirror_mode": {
    "name": "ipython",
    "version": 3
   },
   "file_extension": ".py",
   "mimetype": "text/x-python",
   "name": "python",
   "nbconvert_exporter": "python",
   "pygments_lexer": "ipython3",
   "version": "3.6.5"
  }
 },
 "nbformat": 4,
 "nbformat_minor": 2
}
