{
 "cells": [
  {
   "cell_type": "markdown",
   "metadata": {},
   "source": [
    "Q5: Limits in R(p,q)"
   ]
  },
  {
   "cell_type": "code",
   "execution_count": 14,
   "metadata": {},
   "outputs": [
    {
     "name": "stdout",
     "output_type": "stream",
     "text": [
      "1 2 2.5937424601000023\n",
      "2 2.5937424601000023 2.7048138294215285\n",
      "3 2.7048138294215285 2.7169239322355936\n",
      "4 2.7169239322355936 2.7181459268249255\n",
      "5 2.7181459268249255 2.7182682371922975\n",
      "6 2.7182682371922975 2.7182804690957534\n",
      "7 2.7182804690957534 2.7182816941320818\n",
      "8 2.7182816941320818 2.7182817983473577\n",
      "9 2.7182817983473577 2.7182820520115603\n",
      "10 2.7182820520115603 2.7182820532347876\n",
      "11 2.7182820532347876 2.71828205335711\n",
      "12 2.71828205335711 2.7185234960372378\n",
      "13 2.7185234960372378 2.716110034086901\n",
      "14 2.716110034086901 2.716110034087023\n",
      "15 2.716110034087023 3.035035206549262\n",
      "16 3.035035206549262 1.0\n",
      "17 1.0 1.0\n"
     ]
    }
   ],
   "source": [
    "err = 1  #the magnitude of difference in succesive terms\n",
    "t1 = 2  #evaluating analytically at n=1 gives us 2 for the expression\n",
    "t2 = 0  #to store the succeeding term\n",
    "\n",
    "n = 1\n",
    "\n",
    "while(1):\n",
    "    t2 = (1 + 1/(10**n))**(10**n)\n",
    "    \n",
    "    print(n,t1,t2)\n",
    "    \n",
    "    if(abs(t2-t1) < 1e-18): break\n",
    "    \n",
    "    t1 = t2\n",
    "    n += 1\n",
    "    "
   ]
  },
  {
   "cell_type": "code",
   "execution_count": null,
   "metadata": {},
   "outputs": [],
   "source": []
  },
  {
   "cell_type": "code",
   "execution_count": null,
   "metadata": {},
   "outputs": [],
   "source": []
  }
 ],
 "metadata": {
  "kernelspec": {
   "display_name": "Python 3",
   "language": "python",
   "name": "python3"
  },
  "language_info": {
   "codemirror_mode": {
    "name": "ipython",
    "version": 3
   },
   "file_extension": ".py",
   "mimetype": "text/x-python",
   "name": "python",
   "nbconvert_exporter": "python",
   "pygments_lexer": "ipython3",
   "version": "3.6.5"
  }
 },
 "nbformat": 4,
 "nbformat_minor": 2
}
