{
 "cells": [
  {
   "cell_type": "code",
   "execution_count": 8,
   "metadata": {},
   "outputs": [
    {
     "name": "stdout",
     "output_type": "stream",
     "text": [
      "0 1.0\n",
      "1 5.5\n",
      "2 15.125\n",
      "3 27.73\n",
      "4 38.129\n",
      "5 41.942\n",
      "6 38.447\n",
      "7 30.208\n",
      "8 20.768\n",
      "9 12.692\n",
      "10 6.9805\n",
      "11 3.4902\n",
      "12 1.5997\n",
      "13 0.67679\n",
      "14 0.26588\n",
      "15 0.097484\n",
      "16 0.03351\n",
      "17 0.010842\n",
      "18 0.0033128\n",
      "19 0.00095898\n",
      "20 0.00026372\n",
      "21 6.907e-05\n",
      "22 1.7269e-05\n",
      "23 4.1297e-06\n",
      "24 9.4638e-07\n",
      "25 2.0821e-07\n",
      "26 4.4043e-08\n",
      "27 8.9715e-09\n",
      "28 1.7623e-09\n",
      "29 3.3422e-10\n",
      "30 6.1274e-11\n"
     ]
    }
   ],
   "source": [
    "import numpy as np\n",
    "from math import *\n",
    "\n",
    "x = 5.5  \n",
    "n = 30  #the number of terms to evaluate in the series\n",
    "\n",
    "#creating array for storing the successive terms in the series\n",
    "terms_array = np.zeros(n+1) \n",
    "terms_array[0] = float(format(1.0,'.5g'))  #the first term is always 1\n",
    "\n",
    "print(0,terms_array[0])\n",
    "\n",
    "for i in range(1,31):\n",
    "    num = 1.0\n",
    "    denom = 1  #contains evaluated factorial\n",
    "    \n",
    "    for j in range(1,i+1):\n",
    "        denom = float(format(denom*j,'.5g')) #total of 5 sig-figs always\n",
    "        \n",
    "    for j in range(i):\n",
    "        num *= x  #this takes care of the left-right product convention\n",
    "        num = float(format(num,'.5g'))\n",
    "        \n",
    "    \n",
    "    #thus numerator and denominator have been calculated separately.\n",
    "    terms_array[i] = float(format(num/denom,'.5g'))\n",
    "    print(i,terms_array[i])"
   ]
  },
  {
   "cell_type": "markdown",
   "metadata": {},
   "source": [
    "The above represent the terms of the $e^{5.5}$ till the 31st term. At each step of the calculation, we have approximated that there can be a maximum of five significant figures. Also, the multiplication in calculation of the factorial and the successive powers of x have been computed in a left-right fashion."
   ]
  },
  {
   "cell_type": "code",
   "execution_count": 9,
   "metadata": {},
   "outputs": [
    {
     "name": "stdout",
     "output_type": "stream",
     "text": [
      "0 1.0\n",
      "1 6.5\n",
      "2 21.625\n",
      "3 49.355\n",
      "4 87.484\n",
      "5 129.43\n",
      "6 167.88\n",
      "7 198.09\n",
      "8 218.86\n",
      "9 231.55\n",
      "10 238.53\n",
      "11 242.02\n",
      "12 243.62\n",
      "13 244.3\n",
      "14 244.57\n",
      "15 244.67\n",
      "16 244.7\n",
      "17 244.71\n",
      "18 244.71\n",
      "19 244.71\n",
      "20 244.71\n",
      "21 244.71\n",
      "22 244.71\n",
      "23 244.71\n",
      "24 244.71\n",
      "25 244.71\n",
      "26 244.71\n",
      "27 244.71\n",
      "28 244.71\n",
      "29 244.71\n",
      "30 244.71\n"
     ]
    }
   ],
   "source": [
    "#left-right summation of the terms in the series\n",
    "\n",
    "sum_ltr = 0.0 #stores summation value from left-right \n",
    "\n",
    "for i in range(len(terms_array)):\n",
    "    sum_ltr += terms_array[i]  #starts from smallest i and goes to largest. Left-right\n",
    "    sum_ltr = float(format(sum_ltr,'.5g')) #keeing 5 sig-figs\n",
    "    print(i,sum_ltr)  #checking for convergence"
   ]
  },
  {
   "cell_type": "markdown",
   "metadata": {},
   "source": [
    "The summation converges exactly after k=17 when following the left-right summation convention."
   ]
  },
  {
   "cell_type": "code",
   "execution_count": 9,
   "metadata": {},
   "outputs": [
    {
     "name": "stdout",
     "output_type": "stream",
     "text": [
      "244.69193226422038\n"
     ]
    }
   ],
   "source": [
    "#the actual value of exponential as given by inbuilt routine\n",
    "print(exp(5.5))"
   ]
  },
  {
   "cell_type": "markdown",
   "metadata": {},
   "source": [
    "$f_{sig-fig}$ = 244.71\n",
    "$f_{exact}$ = 244.69193226422038\n",
    "Magnitude of relative error = $\\frac{f_{rounded} - f_{exact}}{f_{exact}}$\n",
    "the absolute value of which is = 7.383870654188337e-05"
   ]
  },
  {
   "cell_type": "code",
   "execution_count": 10,
   "metadata": {},
   "outputs": [
    {
     "name": "stdout",
     "output_type": "stream",
     "text": [
      "0 1.0\n",
      "1 6.5\n",
      "2 21.625\n",
      "3 49.355\n",
      "4 87.484\n",
      "5 129.42\n",
      "6 167.88\n",
      "7 198.09\n",
      "8 218.85\n",
      "9 231.54\n",
      "10 238.51\n",
      "11 242.01\n",
      "12 243.62\n",
      "13 244.28\n",
      "14 244.56\n",
      "15 244.66\n",
      "16 244.69\n",
      "17 244.69\n",
      "18 244.69\n",
      "19 244.69\n",
      "20 244.69\n",
      "21 244.71\n",
      "22 244.71\n",
      "23 244.71\n",
      "24 244.71\n",
      "25 244.71\n",
      "26 244.71\n",
      "27 244.71\n",
      "28 244.71\n",
      "29 244.71\n",
      "30 244.71\n"
     ]
    }
   ],
   "source": [
    "#right-left summation of the terms in the partial-sum\n",
    "\n",
    "print(0,terms_array[0])\n",
    "\n",
    "for i in range(1,31):\n",
    "    sum_rtl = 0.0 #stores summation value from right-left \n",
    "    \n",
    "    #computing the partial sum\n",
    "    for j in range(i,-1,-1):\n",
    "        sum_rtl += terms_array[j]  #starts from largest j and goes to smallest. Right-left\n",
    "        sum_rtl = float(format(sum_rtl,'.5g'))\n",
    "    \n",
    "    #adding the new term\n",
    "    #sum_rtl += terms_array[i]\n",
    "    sum_rtl = float(format(sum_rtl,'.5g'))\n",
    "    print(i,sum_rtl)  #checking for convergence"
   ]
  },
  {
   "cell_type": "markdown",
   "metadata": {},
   "source": [
    "While summing fron right-left, we find that the series briefly converges after k=16 to the value 244.69. However, it then changes value and converges to 244.71 after k=21. So, yes the step at which the series converges changes when changing our summation convention form left-right to right-left.\n",
    "\n",
    "If we consider the first instance of convergence to be the convergence value then the relative error is 7.8967222274e-06. Else, for the case of 244.71, it stays the same."
   ]
  },
  {
   "cell_type": "code",
   "execution_count": 11,
   "metadata": {},
   "outputs": [
    {
     "name": "stdout",
     "output_type": "stream",
     "text": [
      "[ 1.0000e+00 -5.5000e+00  1.5125e+01 -2.7730e+01  3.8129e+01 -4.1942e+01\n",
      "  3.8447e+01 -3.0208e+01  2.0768e+01 -1.2692e+01  6.9805e+00 -3.4902e+00\n",
      "  1.5997e+00 -6.7679e-01  2.6588e-01 -9.7484e-02  3.3510e-02 -1.0842e-02\n",
      "  3.3128e-03 -9.5898e-04  2.6372e-04 -6.9070e-05  1.7269e-05 -4.1297e-06\n",
      "  9.4638e-07 -2.0821e-07  4.4043e-08 -8.9715e-09  1.7623e-09 -3.3422e-10\n",
      "  6.1274e-11]\n"
     ]
    }
   ],
   "source": [
    "#Evaluating exp(-5.5)\n",
    "\n",
    "#We use the previous results but now change the sign of the odd terms in the series\n",
    "\n",
    "sign_arr = [((-1)**n) for n in range(31)] #to be multiplied elementwise to terms_array\n",
    "\n",
    "terms_array_neg = sign_arr*terms_array\n",
    "print(terms_array_neg)"
   ]
  },
  {
   "cell_type": "markdown",
   "metadata": {},
   "source": [
    "So now that we have the terms for exp(-5.5), we use this new array to carry out subsequent operations."
   ]
  },
  {
   "cell_type": "code",
   "execution_count": 12,
   "metadata": {},
   "outputs": [
    {
     "name": "stdout",
     "output_type": "stream",
     "text": [
      "0 1.0\n",
      "1 -4.5\n",
      "2 10.625\n",
      "3 -17.105\n",
      "4 21.024\n",
      "5 -20.918\n",
      "6 17.529\n",
      "7 -12.679\n",
      "8 8.089\n",
      "9 -4.603\n",
      "10 2.3775\n",
      "11 -1.1127\n",
      "12 0.487\n",
      "13 -0.18979\n",
      "14 0.07609\n",
      "15 -0.021394\n",
      "16 0.012116\n",
      "17 0.001274\n",
      "18 0.0045868\n",
      "19 0.0036278\n",
      "20 0.0038915\n",
      "21 0.0038224\n",
      "22 0.0038397\n",
      "23 0.0038356\n",
      "24 0.0038365\n",
      "25 0.0038363\n",
      "26 0.0038363\n",
      "27 0.0038363\n",
      "28 0.0038363\n",
      "29 0.0038363\n",
      "30 0.0038363\n"
     ]
    }
   ],
   "source": [
    "#left-right summation of the terms in the series\n",
    "\n",
    "sum_ltr = 0.0 #stores summation value from left-right \n",
    "\n",
    "for i in range(len(terms_array_neg)):\n",
    "    sum_ltr += terms_array_neg[i]  #starts from smallest i and goes to largest. Left-right\n",
    "    sum_ltr = float(format(sum_ltr,'.5g'))\n",
    "    print(i,sum_ltr)  #checking for convergence"
   ]
  },
  {
   "cell_type": "markdown",
   "metadata": {},
   "source": [
    "Therefore, on computing $e^{-5.5}$ in a left-right summation convention, we find that the value converges to 0.0038363 after k=25."
   ]
  },
  {
   "cell_type": "code",
   "execution_count": 15,
   "metadata": {},
   "outputs": [
    {
     "name": "stdout",
     "output_type": "stream",
     "text": [
      "0 1.0\n",
      "1 -4.5\n",
      "2 10.625\n",
      "3 -17.105\n",
      "4 21.024\n",
      "5 -20.918\n",
      "6 17.529\n",
      "7 -12.679\n",
      "8 8.089\n",
      "9 -4.603\n",
      "10 2.377\n",
      "11 -1.113\n",
      "12 0.487\n",
      "13 -0.19\n",
      "14 0.076\n",
      "15 -0.021\n",
      "16 0.012\n",
      "17 0.001\n",
      "18 0.005\n",
      "19 0.004\n",
      "20 0.004\n",
      "21 0.004\n",
      "22 0.004\n",
      "23 0.004\n",
      "24 0.004\n",
      "25 0.004\n",
      "26 0.004\n",
      "27 0.004\n",
      "28 0.004\n",
      "29 0.004\n",
      "30 0.004\n"
     ]
    }
   ],
   "source": [
    "#right-left summation of the terms in the partial-sum\n",
    "\n",
    "print(0,terms_array[0])\n",
    "\n",
    "for i in range(1,31):\n",
    "    sum_rtl = 0.0 #stores summation value from right-left \n",
    "    \n",
    "    #computing the partial sum\n",
    "    for j in range(i,-1,-1):\n",
    "        sum_rtl += terms_array_neg[j]  #starts from largest j and goes to smallest. Right-left\n",
    "        sum_rtl = float(format(sum_rtl,'.5g'))\n",
    "    \n",
    "    print(i,sum_rtl)  #checking for convergence"
   ]
  },
  {
   "cell_type": "markdown",
   "metadata": {},
   "source": [
    "In computing $e^{-5.5}$ for the right-left convention, we find that the value converges to 0.004 after k=19."
   ]
  },
  {
   "cell_type": "code",
   "execution_count": 17,
   "metadata": {},
   "outputs": [
    {
     "name": "stdout",
     "output_type": "stream",
     "text": [
      "0 1.0\n",
      "1 -4.5\n",
      "2 10.625\n",
      "3 -17.105\n",
      "4 21.024\n",
      "5 -20.918\n",
      "6 17.529\n",
      "7 -12.679\n",
      "8 8.09\n",
      "9 -4.6\n",
      "10 2.38\n",
      "11 -1.11\n",
      "12 0.49\n",
      "13 -0.19\n",
      "14 0.08\n",
      "15 -0.02\n",
      "16 0.01\n",
      "17 0.0\n",
      "18 0.0\n",
      "19 0.0\n",
      "20 0.0\n",
      "21 0.0\n",
      "22 0.0\n",
      "23 0.0\n",
      "24 0.0\n",
      "25 0.0\n",
      "26 0.0\n",
      "27 0.0\n",
      "28 0.0\n",
      "29 0.0\n",
      "30 0.0\n"
     ]
    }
   ],
   "source": [
    "#left-right summation of the terms in the series\n",
    "\n",
    "for j in range(len(terms_array_neg)):\n",
    "    sum_ltr_p = 0.0 #stores positive terms summation value from left-right \n",
    "    sum_ltr_n = 0.0 #stores negative terms summation value from left-right \n",
    "    \n",
    "    #summing the positive terms left-right\n",
    "    for i in range(0,j+1,2):\n",
    "        sum_ltr_p += terms_array_neg[i]  #starts from smallest i and goes to largest. Left-right\n",
    "        sum_ltr_p = float(format(sum_ltr_p,'.5g'))\n",
    "\n",
    "    #summing the negative terms left-right\n",
    "    for i in range(1,j+1,2):\n",
    "        sum_ltr_n += terms_array_neg[i]  #starts from smallest i and goes to largest. Left-right\n",
    "        sum_ltr_n = float(format(sum_ltr_n,'.5g'))\n",
    "\n",
    "    print(j,float(format(sum_ltr_p + sum_ltr_n,'.5g')))  #checking for convergence"
   ]
  },
  {
   "cell_type": "markdown",
   "metadata": {},
   "source": [
    "When computing the positive and negative terms separately using the left-right convention and putting them together, we find that the value converges to 0.0 after k=17."
   ]
  },
  {
   "cell_type": "code",
   "execution_count": 23,
   "metadata": {},
   "outputs": [
    {
     "name": "stdout",
     "output_type": "stream",
     "text": [
      "0 1.0\n",
      "1 -4.5\n",
      "2 10.625\n",
      "3 -17.105\n",
      "4 21.024\n",
      "5 -20.918\n",
      "6 17.529\n",
      "7 -12.679\n",
      "8 8.09\n",
      "9 -4.6\n",
      "10 2.37\n",
      "11 -1.12\n",
      "12 0.49\n",
      "13 -0.19\n",
      "14 0.07\n",
      "15 -0.03\n",
      "16 0.0\n",
      "17 -0.01\n",
      "18 0.01\n",
      "19 0.01\n",
      "20 0.01\n",
      "21 0.01\n",
      "22 0.01\n",
      "23 0.01\n",
      "24 0.01\n",
      "25 0.01\n",
      "26 0.01\n",
      "27 0.01\n",
      "28 0.01\n",
      "29 0.01\n",
      "30 0.01\n"
     ]
    }
   ],
   "source": [
    "#right-left summation of the terms in the series\n",
    "\n",
    "for j in range(len(terms_array_neg)):\n",
    "    sum_rtl_p = 0.0 #stores positive terms summation value from right-left \n",
    "    sum_rtl_n = 0.0 #stores negative terms summation value from right-left \n",
    "    \n",
    "    if(j%2 == 0): \n",
    "        j_even = j\n",
    "        j_odd = j-1\n",
    "    else:\n",
    "        j_even = j-1\n",
    "        j_odd = j\n",
    "    \n",
    "    #summing the positive terms right-left\n",
    "    for i in range(j_even,-1,-2):\n",
    "        sum_rtl_p += terms_array_neg[i]  #starts from smallest i and goes to largest. Left-right\n",
    "        sum_rtl_p = float(format(sum_rtl_p,'.5g'))\n",
    "        #print('e',j)\n",
    "\n",
    "    #summing the negative terms right-left\n",
    "    for i in range(j_odd,-1,-2):\n",
    "        sum_rtl_n += terms_array_neg[i]  #starts from smallest i and goes to largest. Left-right\n",
    "        sum_rtl_n = float(format(sum_rtl_n,'.5g'))\n",
    "        #print('o',i)\n",
    "\n",
    "\n",
    "    print(j,float(format(sum_rtl_p + sum_rtl_n,'.5g')))  #checking for convergence"
   ]
  },
  {
   "cell_type": "markdown",
   "metadata": {},
   "source": [
    "On adopting the right-left convention in computing the positive and negative terms separately, we find that the value of $e^{-5.5}$ converges to 0.01 after k=18."
   ]
  },
  {
   "cell_type": "markdown",
   "metadata": {},
   "source": [
    "In the previous cases, the poor values of $e^{-5.5}$ we due to the fact that there were repeated instances of catestrophic cancellations due to the excessive number of subtraction operations being carried out. Thus, the goal of the new alternate algorithm must be to minimize or avoid the implementation of subtraction operations. \n",
    "\n",
    "Now, we know that division does not result in any bombardment of errors (infact a rigorous analysis shows that for division of numbers with same sign, it leads to subtraction of the errors. Thus, making way for a division operation instead of subtractions would be a nice cure. \n",
    "\n",
    "Therefore, we try the following algorithm: (a) Compute $e^{5.5}$ in the left-right or right-left way (as they are not too different in terms of the values they converge to, (b) Divide 1 by the computed value of $e^{5.5}$, i.e, $e^{-5.5} = \\frac{1.0}{e^{5.5}}$."
   ]
  },
  {
   "cell_type": "code",
   "execution_count": 31,
   "metadata": {},
   "outputs": [
    {
     "name": "stdout",
     "output_type": "stream",
     "text": [
      "0 1.0\n",
      "1 0.15385\n",
      "2 0.046243\n",
      "3 0.020261\n",
      "4 0.011431\n",
      "5 0.0077268\n",
      "6 0.0059566\n",
      "7 0.0050482\n",
      "8 0.0045693\n",
      "9 0.0043189\n",
      "10 0.0041927\n",
      "11 0.0041321\n",
      "12 0.0041048\n",
      "13 0.0040937\n",
      "14 0.004089\n",
      "15 0.0040873\n",
      "16 0.0040868\n",
      "17 0.0040868\n",
      "18 0.0040868\n",
      "19 0.0040868\n",
      "20 0.0040868\n",
      "21 0.0040865\n",
      "22 0.0040865\n",
      "23 0.0040865\n",
      "24 0.0040865\n",
      "25 0.0040865\n",
      "26 0.0040865\n",
      "27 0.0040865\n",
      "28 0.0040865\n",
      "29 0.0040865\n",
      "30 0.0040865\n"
     ]
    }
   ],
   "source": [
    "#right-left summation of the terms in the partial-sum\n",
    "\n",
    "print(0,terms_array[0])\n",
    "\n",
    "for i in range(1,31):\n",
    "    sum_rtl = 0.0 #stores summation value from right-left \n",
    "    \n",
    "    #computing the partial sum\n",
    "    for j in range(i,-1,-1):\n",
    "        sum_rtl += terms_array[j]  #starts from largest j and goes to smallest. Right-left\n",
    "        sum_rtl = float(format(sum_rtl,'.5g'))\n",
    "    \n",
    "    #adding the new term\n",
    "    #sum_rtl += terms_array[i]\n",
    "    sum_rtl = float(format(sum_rtl,'.5g'))\n",
    "    print(i,float(format(1.0/sum_rtl,'.5g')))  #checking for convergence"
   ]
  },
  {
   "cell_type": "markdown",
   "metadata": {},
   "source": [
    "The value of $e^{-5.5}$ computed from inbuilt function = 0.004086771438464067, and the value obtained from this alternate algorithm is = 0.0040865. The relative error = 6.64188022633233e-05, which is much better than the previous cases that we explored.\n",
    "\n",
    "Therefore, this is indeed a better algorithm to get a very accurate value of $e^{-5.5}$."
   ]
  },
  {
   "cell_type": "code",
   "execution_count": null,
   "metadata": {},
   "outputs": [],
   "source": []
  }
 ],
 "metadata": {
  "kernelspec": {
   "display_name": "Python 3",
   "language": "python",
   "name": "python3"
  },
  "language_info": {
   "codemirror_mode": {
    "name": "ipython",
    "version": 3
   },
   "file_extension": ".py",
   "mimetype": "text/x-python",
   "name": "python",
   "nbconvert_exporter": "python",
   "pygments_lexer": "ipython3",
   "version": "3.6.5"
  }
 },
 "nbformat": 4,
 "nbformat_minor": 2
}
