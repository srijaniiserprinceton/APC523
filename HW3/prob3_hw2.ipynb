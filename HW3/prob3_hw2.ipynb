{
 "cells": [
  {
   "cell_type": "markdown",
   "metadata": {},
   "source": [
    "**Problem 3**"
   ]
  },
  {
   "cell_type": "code",
   "execution_count": 14,
   "metadata": {},
   "outputs": [
    {
     "name": "stdout",
     "output_type": "stream",
     "text": [
      "Expected Coefficients: [5. 4. 5. 1. 1.]\n",
      "Computed Coefficients: [5. 4. 5. 1. 1.]\n",
      "Do they match? True\n"
     ]
    }
   ],
   "source": [
    "from scipy import fftpack\n",
    "import numpy as np\n",
    "import numpy.polynomial.chebyshev as cheb\n",
    "\n",
    "import numpy as np\n",
    "import matplotlib.pyplot as plt\n",
    "plt.ion()\n",
    "\n",
    "N_nodes = 5\n",
    "\n",
    "#function to return the normalized coefficient for Cheb Poly of 1sd kind\n",
    "#using the nodes from Cheby polys of 2nd kind\n",
    "def chebcoeffs(f_vals):\n",
    "    coeffs = fftpack.dct(f_vals[::-1], type=1)  #feeding the f_j in reverse order\n",
    "    coeffs[0] *= 0.5\n",
    "    coeffs[-1] *= 0.5\n",
    "        \n",
    "    coeffs = coeffs/(len(f_vals) - 1)  #normalizing by dividing by N_nodes-1\n",
    "    \n",
    "    return coeffs  #coefficients arranged from T_0 to T_N\n",
    "\n",
    "#creating the polynomial\n",
    "f_test = np.poly1d([8,4,2,1,1])\n",
    "\n",
    "f_test_coeffs = np.array([5., 4., 5., 1., 1.])\n",
    "\n",
    "#getting the nodes of chebyshev kind 2\n",
    "nodes_cheb2 = cheb.chebpts2(N_nodes)\n",
    "\n",
    "coeffs_calc = chebcoeffs(f_test(nodes_cheb2))\n",
    "\n",
    "#testing if the coefficients are correct or not\n",
    "test_truth = np.allclose(f_test_coeffs, coeffs_calc,atol=1e-10)\n",
    "\n",
    "print('Expected Coefficients:', f_test_coeffs)\n",
    "print('Computed Coefficients:', coeffs_calc)\n",
    "\n",
    "print('Do they match?',test_truth)"
   ]
  },
  {
   "cell_type": "code",
   "execution_count": 21,
   "metadata": {},
   "outputs": [
    {
     "name": "stdout",
     "output_type": "stream",
     "text": [
      "Nodes = 8.000000E+00, Time = 2.212524E-04 seconds\n",
      "Nodes = 8.192000E+03, Time = 1.115994E-01 seconds\n",
      "Nodes = 8.193000E+03, Time = 4.823208E-04 seconds\n",
      "Nodes = 1.310720E+05, Time = 2.824801E+01 seconds\n",
      "Nodes = 1.310730E+05, Time = 5.985260E-03 seconds\n"
     ]
    }
   ],
   "source": [
    "import time\n",
    "\n",
    "f = lambda x: np.exp(-(x**2))\n",
    "\n",
    "N_nodes = np.array([8, 2**13, 2**13 + 1, 2**17, 2**17 + 1])\n",
    "\n",
    "for i in range(len(N_nodes)):\n",
    "    nodes_cheb2 = cheb.chebpts2(N_nodes[i])\n",
    "    coeffs_calc = chebcoeffs(f_test(nodes_cheb2))\n",
    "\n",
    "    start = time.time()\n",
    "    coeffs_calc = chebcoeffs(f_test(cheb.chebpts2(N_nodes[i])))\n",
    "    end = time.time()\n",
    "    print('Nodes = %E, Time = %E seconds'%(N_nodes[i],end - start))\n"
   ]
  },
  {
   "cell_type": "code",
   "execution_count": 28,
   "metadata": {},
   "outputs": [
    {
     "name": "stdout",
     "output_type": "stream",
     "text": [
      "Nodes = 1.025000E+03, Time = 4.169941E-04 seconds\n",
      "Nodes = 4.097000E+03, Time = 5.397797E-04 seconds\n",
      "Nodes = 1.638500E+04, Time = 2.296925E-03 seconds\n",
      "Nodes = 6.553700E+04, Time = 9.124994E-03 seconds\n",
      "Nodes = 2.621450E+05, Time = 2.797198E-02 seconds\n",
      "Nodes = 1.048577E+06, Time = 8.337188E-02 seconds\n",
      "Nodes = 4.194305E+06, Time = 3.655207E-01 seconds\n",
      "Nodes = 1.677722E+07, Time = 3.366349E+00 seconds\n"
     ]
    },
    {
     "data": {
      "text/plain": [
       "[<matplotlib.lines.Line2D at 0x7f952da2ee80>]"
      ]
     },
     "execution_count": 28,
     "metadata": {},
     "output_type": "execute_result"
    },
    {
     "data": {
      "image/png": "[encoded data removed]",
      "text/plain": [
       "<Figure size 432x288 with 1 Axes>"
      ]
     },
     "metadata": {},
     "output_type": "display_data"
    }
   ],
   "source": [
    "import time\n",
    "\n",
    "f = lambda x: np.exp(-(x**2))\n",
    "\n",
    "N_nodes = 2**(np.arange(10,26,2)) + 1\n",
    "\n",
    "time_taken = np.zeros(len(N_nodes))\n",
    "\n",
    "for i in range(len(N_nodes)):\n",
    "    nodes_cheb2 = cheb.chebpts2(N_nodes[i])\n",
    "    coeffs_calc = chebcoeffs(f_test(nodes_cheb2))\n",
    "\n",
    "    start = time.time()\n",
    "    coeffs_calc = chebcoeffs(f_test(cheb.chebpts2(N_nodes[i])))\n",
    "    end = time.time()\n",
    "    \n",
    "    time_taken[i] = end - start\n",
    "    \n",
    "    print('Nodes = %E, Time = %E seconds'%(N_nodes[i],end - start))\n",
    "    \n",
    "plt.loglog(N_nodes,time_taken,'.')\n"
   ]
  },
  {
   "cell_type": "code",
   "execution_count": 37,
   "metadata": {},
   "outputs": [
    {
     "data": {
      "text/plain": [
       "array([ 1.06180238, 16.0220228 ])"
      ]
     },
     "execution_count": 37,
     "metadata": {},
     "output_type": "execute_result"
    },
    {
     "data": {
      "image/png": "[encoded data removed]",
      "text/plain": [
       "<Figure size 432x288 with 1 Axes>"
      ]
     },
     "metadata": {},
     "output_type": "display_data"
    }
   ],
   "source": [
    "np.polyfit(np.log(time_taken), np.log(N_nodes),1)"
   ]
  },
  {
   "cell_type": "markdown",
   "metadata": {},
   "source": [
    "Thus, we find that the linear polynomial fit gives us slope = 1.061 which is between 1 and 2. So, the scaling is somewhere between O($N$) and O($N^2$)."
   ]
  },
  {
   "cell_type": "code",
   "execution_count": null,
   "metadata": {},
   "outputs": [],
   "source": []
  }
 ],
 "metadata": {
  "kernelspec": {
   "display_name": "Python 3",
   "language": "python",
   "name": "python3"
  },
  "language_info": {
   "codemirror_mode": {
    "name": "ipython",
    "version": 3
   },
   "file_extension": ".py",
   "mimetype": "text/x-python",
   "name": "python",
   "nbconvert_exporter": "python",
   "pygments_lexer": "ipython3",
   "version": "3.6.5"
  }
 },
 "nbformat": 4,
 "nbformat_minor": 2
}
