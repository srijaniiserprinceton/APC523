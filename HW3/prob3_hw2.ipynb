{
 "cells": [
  {
   "cell_type": "code",
   "execution_count": 1,
   "metadata": {},
   "outputs": [],
   "source": [
    "from scipy import fftpack\n",
    "import numpy as np\n",
    "import numpy.polynomial.chebyshev as cheb\n",
    "\n",
    "import numpy as np\n",
    "import matplotlib.pyplot as plt\n",
    "plt.ion()\n",
    "\n",
    "N_nodes = 5\n",
    "\n",
    "#function to return the normalized coefficient for Cheb Poly of 1sd kind\n",
    "#using the nodes from Cheby polys of 2nd kind\n",
    "def chebcoeffs(f_vals):\n",
    "    coeffs = fftpack.dct(f_vals[::-1], type=1)  #feeding the f_j in reverse order\n",
    "    coeffs[0] *= 0.5\n",
    "    coeffs[-1] *= 0.5\n",
    "        \n",
    "    coeffs = coeffs/(len(f_vals) - 1)  #normalizing by dividing by N_nodes-1\n",
    "    \n",
    "    return coeffs  #coefficients arranged from T_0 to T_N\n",
    "\n",
    "    \n",
    "f_test = np.poly1d([8,4,2,1,1])\n",
    "\n",
    "f_test_coeffs = np.array([5., 4., 5., 1., 1.])\n",
    "\n",
    "nodes_cheb2 = cheb.chebpts2(N_nodes)\n",
    "\n",
    "coeffs_calc = chebcoeffs(f_test(nodes_cheb2))\n",
    "\n",
    "#testing if the coefficients are correct or not\n",
    "test_truth = np.allclose(f_test_coeffs, coeffs_calc,atol=1e-10)"
   ]
  },
  {
   "cell_type": "code",
   "execution_count": 40,
   "metadata": {},
   "outputs": [
    {
     "name": "stdout",
     "output_type": "stream",
     "text": [
      "0.0006920780288055539\n"
     ]
    }
   ],
   "source": [
    "f = lambda x: np.exp(-(x**2))\n",
    "\n",
    "#N_nodes = 2**13\n",
    "\n",
    "#nodes_cheb2 = cheb.chebpts2(N_nodes)\n",
    "\n",
    "#coeffs_calc = chebcoeffs(f_test(nodes_cheb2))\n",
    "\n",
    "#N_nodes = np.array([8, 2**13, 2**13 + 1, 2**17, 2**17 + 1])\n",
    "\n",
    "N_nodes = np.array([4,8,16])\n",
    "\n",
    "setup = '''\n",
    "import numpy as np\n",
    "import numpy.polynomial.chebyshev as cheb\n",
    "from __main__ import chebcoeffs, f_test\n",
    "\n",
    "#N_nodes = np.array([8, 2**13, 2**13 + 1, 2**17, 2**17 + 1])\n",
    "N_nodes = np.array([8])\n",
    "i=3\n",
    "'''\n",
    "import timeit\n",
    "# for i in range(len(N_nodes)):\n",
    "#     import timeit\n",
    "#     print(N_nodes[i])\n",
    "print(timeit.timeit(\"for i in range(len(N_nodes)): coeffs_calc = chebcoeffs(f_test(cheb.chebpts2(N_nodes[i])))\", setup = setup,number=10))\n",
    "\n",
    "    #print('Done')"
   ]
  },
  {
   "cell_type": "code",
   "execution_count": null,
   "metadata": {},
   "outputs": [],
   "source": []
  },
  {
   "cell_type": "code",
   "execution_count": null,
   "metadata": {},
   "outputs": [],
   "source": []
  }
 ],
 "metadata": {
  "kernelspec": {
   "display_name": "Python 3",
   "language": "python",
   "name": "python3"
  },
  "language_info": {
   "codemirror_mode": {
    "name": "ipython",
    "version": 3
   },
   "file_extension": ".py",
   "mimetype": "text/x-python",
   "name": "python",
   "nbconvert_exporter": "python",
   "pygments_lexer": "ipython3",
   "version": "3.7.1"
  }
 },
 "nbformat": 4,
 "nbformat_minor": 2
}
