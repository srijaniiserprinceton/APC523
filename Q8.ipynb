{
 "cells": [
  {
   "cell_type": "markdown",
   "metadata": {},
   "source": [
    "# 8. Recurrence in reverse:"
   ]
  },
  {
   "cell_type": "code",
   "execution_count": 27,
   "metadata": {},
   "outputs": [
    {
     "name": "stdout",
     "output_type": "stream",
     "text": [
      "0.12380383076256998\n"
     ]
    }
   ],
   "source": [
    "from scipy import integrate\n",
    "import numpy as np\n",
    "\n",
    "y_new = 0  #to be used as y_n\n",
    "y_old = 0  #to be used as y_(n+1)\n",
    "n = 31  #starting from y_31 as we found that taking N = 31 would yield the desired y_20\n",
    "\n",
    "for i in range(n,20,-1):  #the loop is till i=21 as we want to find y_20\n",
    "    y_new = (math.exp(1) - y_old)/i  #the reverse recurrence. \n",
    "    y_old = y_new\n",
    "\n",
    "print(y_old)"
   ]
  },
  {
   "cell_type": "markdown",
   "metadata": {},
   "source": [
    "Trying the definite integral using Scipy's inbuilt integrate.quad routine."
   ]
  },
  {
   "cell_type": "code",
   "execution_count": 28,
   "metadata": {},
   "outputs": [
    {
     "data": {
      "text/plain": [
       "(0.12380383076256998, 1.6808102031436923e-11)"
      ]
     },
     "execution_count": 28,
     "metadata": {},
     "output_type": "execute_result"
    }
   ],
   "source": [
    "n = 20  #as we want y_20\n",
    "f = lambda x: (x**n)*np.exp(x)  #defining our function \n",
    "integrate.quad(f, 0, 1)"
   ]
  },
  {
   "cell_type": "markdown",
   "metadata": {},
   "source": [
    "Therefore, the value from our algorithm and the inbuilt routine are as follows:\n",
    "\n",
    "(i) Value$_{algo}$ = 0.12380383076256998\n",
    "(ii) Value$_{scipy}$ = 0.12380383076256998\n",
    "\n",
    "Relative error = (Value$_{algo}$ - Value$_{scipy}$)/Value$_{scipy}$ = 0.0\n",
    "    "
   ]
  }
 ],
 "metadata": {
  "kernelspec": {
   "display_name": "Python 3",
   "language": "python",
   "name": "python3"
  },
  "language_info": {
   "codemirror_mode": {
    "name": "ipython",
    "version": 3
   },
   "file_extension": ".py",
   "mimetype": "text/x-python",
   "name": "python",
   "nbconvert_exporter": "python",
   "pygments_lexer": "ipython3",
   "version": "3.6.5"
  }
 },
 "nbformat": 4,
 "nbformat_minor": 2
}
